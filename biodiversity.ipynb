{
 "cells": [
  {
   "cell_type": "markdown",
   "metadata": {
    "pycharm": {
     "name": "#%% md\n"
    }
   },
   "source": [
    "# Biodiversity"
   ]
  },
  {
   "cell_type": "markdown",
   "source": [
    "## Introduction\n",
    "\n",
    "The goal of this project is to interpret data from the National Parks Service about endangered species in different parks.\n",
    "This project will report some data analysis on the conservation statuses of these species and investigate if there are any patterns or themes to the types of species that become endangered.\n",
    "Here are some questions this project will answer:\n",
    "- What is the distribution of conservation_status for animals?\n",
    "- Are certain types of species more likely to be endangered?\n",
    "- Are the differences between species and their conservation status significant?\n",
    "- Which species were spotted the most at each park?"
   ],
   "metadata": {
    "collapsed": false,
    "pycharm": {
     "name": "#%% md\n"
    }
   }
  },
  {
   "cell_type": "markdown",
   "source": [
    "## Scoping\n",
    "\n",
    "### Project Goals\n",
    "\n",
    "The target of this analysis is the biodiversity in National Park. The primary goals will be to comprehend the features of the species, their situation with regard to conservation, and the interaction between those species and the national parks.\n",
    "Some questions which will be answered in this project are:\n",
    "- What is the distribution of conservation_status for animals?\n",
    "- Are certain types of species more likely to be endangered?\n",
    "- Are the differences between species and their conservation status significant?\n",
    "- Which species were spotted the most at each park?\n",
    "\n",
    "### Data\n",
    "There are two datasets which are provided by Codecademy including Observations.csv and Species_info.csv. The first csv file has has observations of species with park locations and the other has data about species in National Park.\n",
    "\n",
    "### Analysis\n",
    "This analysis will use data visualization and descriptive statistic to fulfill the goals above. Statistical inference can be employed to determine to test if the observed values and hypothesis are statistically significant\n",
    "\n",
    "### Evaluation\n",
    "The questions set will be rechecked to check the output of analysis can fulfill the goal. This section will also provide some insights from the analysis process, and check whether any of the questions could not be resolved. The analysis will be posted on Codeacademy forum to get feedback from other people."
   ],
   "metadata": {
    "collapsed": false,
    "pycharm": {
     "name": "#%% md\n"
    }
   }
  },
  {
   "cell_type": "markdown",
   "source": [
    "## Analysis"
   ],
   "metadata": {
    "collapsed": false,
    "pycharm": {
     "name": "#%% md\n"
    }
   }
  },
  {
   "cell_type": "markdown",
   "source": [
    "### Load the data, check the cleanliness"
   ],
   "metadata": {
    "collapsed": false,
    "pycharm": {
     "name": "#%% md\n"
    }
   }
  },
  {
   "cell_type": "code",
   "execution_count": 3,
   "outputs": [],
   "source": [
    "#import necessary module\n",
    "import pandas as pd\n",
    "import numpy as np\n",
    "import matplotlib.pyplot as plt\n",
    "import seaborn as sns"
   ],
   "metadata": {
    "collapsed": false,
    "pycharm": {
     "name": "#%%\n"
    }
   }
  },
  {
   "cell_type": "markdown",
   "source": [
    "#### species_info.csv"
   ],
   "metadata": {
    "collapsed": false,
    "pycharm": {
     "name": "#%% md\n"
    }
   }
  },
  {
   "cell_type": "code",
   "execution_count": 5,
   "outputs": [
    {
     "data": {
      "text/plain": "  category                scientific_name  \\\n0   Mammal  Clethrionomys gapperi gapperi   \n1   Mammal                      Bos bison   \n2   Mammal                     Bos taurus   \n3   Mammal                     Ovis aries   \n4   Mammal                 Cervus elaphus   \n\n                                        common_names conservation_status  \n0                           Gapper's Red-Backed Vole                 NaN  \n1                              American Bison, Bison                 NaN  \n2  Aurochs, Aurochs, Domestic Cattle (Feral), Dom...                 NaN  \n3  Domestic Sheep, Mouflon, Red Sheep, Sheep (Feral)                 NaN  \n4                                      Wapiti Or Elk                 NaN  ",
      "text/html": "<div>\n<style scoped>\n    .dataframe tbody tr th:only-of-type {\n        vertical-align: middle;\n    }\n\n    .dataframe tbody tr th {\n        vertical-align: top;\n    }\n\n    .dataframe thead th {\n        text-align: right;\n    }\n</style>\n<table border=\"1\" class=\"dataframe\">\n  <thead>\n    <tr style=\"text-align: right;\">\n      <th></th>\n      <th>category</th>\n      <th>scientific_name</th>\n      <th>common_names</th>\n      <th>conservation_status</th>\n    </tr>\n  </thead>\n  <tbody>\n    <tr>\n      <th>0</th>\n      <td>Mammal</td>\n      <td>Clethrionomys gapperi gapperi</td>\n      <td>Gapper's Red-Backed Vole</td>\n      <td>NaN</td>\n    </tr>\n    <tr>\n      <th>1</th>\n      <td>Mammal</td>\n      <td>Bos bison</td>\n      <td>American Bison, Bison</td>\n      <td>NaN</td>\n    </tr>\n    <tr>\n      <th>2</th>\n      <td>Mammal</td>\n      <td>Bos taurus</td>\n      <td>Aurochs, Aurochs, Domestic Cattle (Feral), Dom...</td>\n      <td>NaN</td>\n    </tr>\n    <tr>\n      <th>3</th>\n      <td>Mammal</td>\n      <td>Ovis aries</td>\n      <td>Domestic Sheep, Mouflon, Red Sheep, Sheep (Feral)</td>\n      <td>NaN</td>\n    </tr>\n    <tr>\n      <th>4</th>\n      <td>Mammal</td>\n      <td>Cervus elaphus</td>\n      <td>Wapiti Or Elk</td>\n      <td>NaN</td>\n    </tr>\n  </tbody>\n</table>\n</div>"
     },
     "execution_count": 5,
     "metadata": {},
     "output_type": "execute_result"
    }
   ],
   "source": [
    "species = pd.read_csv('species_info.csv',encoding='utf-8', low_memory=False)\n",
    "species.head()"
   ],
   "metadata": {
    "collapsed": false,
    "pycharm": {
     "name": "#%%\n"
    }
   }
  },
  {
   "cell_type": "markdown",
   "source": [
    "The columns in the data set include:\n",
    "- category - The category of taxonomy for each species\n",
    "- scientific_name - The scientific name of each species\n",
    "- common_names - The common names of each species\n",
    "- conservation_status - The species conservation status"
   ],
   "metadata": {
    "collapsed": false,
    "pycharm": {
     "name": "#%% md\n"
    }
   }
  },
  {
   "cell_type": "code",
   "execution_count": 9,
   "outputs": [
    {
     "name": "stdout",
     "output_type": "stream",
     "text": [
      "(5824, 4)\n"
     ]
    }
   ],
   "source": [
    "print(species.shape)"
   ],
   "metadata": {
    "collapsed": false,
    "pycharm": {
     "name": "#%%\n"
    }
   }
  },
  {
   "cell_type": "code",
   "execution_count": 6,
   "outputs": [
    {
     "name": "stdout",
     "output_type": "stream",
     "text": [
      "<class 'pandas.core.frame.DataFrame'>\n",
      "RangeIndex: 5824 entries, 0 to 5823\n",
      "Data columns (total 4 columns):\n",
      " #   Column               Non-Null Count  Dtype \n",
      "---  ------               --------------  ----- \n",
      " 0   category             5824 non-null   object\n",
      " 1   scientific_name      5824 non-null   object\n",
      " 2   common_names         5824 non-null   object\n",
      " 3   conservation_status  191 non-null    object\n",
      "dtypes: object(4)\n",
      "memory usage: 182.1+ KB\n"
     ]
    }
   ],
   "source": [
    "species.info()"
   ],
   "metadata": {
    "collapsed": false,
    "pycharm": {
     "name": "#%%\n"
    }
   }
  },
  {
   "cell_type": "markdown",
   "source": [
    "We could see that there may not any missing data in the first three columns. However, conservation_status has too much missing data, so we need to be careful when conduct analysis on this variable"
   ],
   "metadata": {
    "collapsed": false,
    "pycharm": {
     "name": "#%% md\n"
    }
   }
  },
  {
   "cell_type": "code",
   "execution_count": 10,
   "outputs": [
    {
     "data": {
      "text/plain": "(5824, 4)"
     },
     "execution_count": 10,
     "metadata": {},
     "output_type": "execute_result"
    }
   ],
   "source": [
    "species.drop_duplicates(inplace=True)\n",
    "species.shape #there is no duplicate"
   ],
   "metadata": {
    "collapsed": false,
    "pycharm": {
     "name": "#%%\n"
    }
   }
  },
  {
   "cell_type": "markdown",
   "source": [
    "#### observations.csv"
   ],
   "metadata": {
    "collapsed": false,
    "pycharm": {
     "name": "#%% md\n"
    }
   }
  },
  {
   "cell_type": "code",
   "execution_count": 11,
   "outputs": [
    {
     "data": {
      "text/plain": "            scientific_name                            park_name  observations\n0        Vicia benghalensis  Great Smoky Mountains National Park            68\n1            Neovison vison  Great Smoky Mountains National Park            77\n2         Prunus subcordata               Yosemite National Park           138\n3      Abutilon theophrasti                  Bryce National Park            84\n4  Githopsis specularioides  Great Smoky Mountains National Park            85",
      "text/html": "<div>\n<style scoped>\n    .dataframe tbody tr th:only-of-type {\n        vertical-align: middle;\n    }\n\n    .dataframe tbody tr th {\n        vertical-align: top;\n    }\n\n    .dataframe thead th {\n        text-align: right;\n    }\n</style>\n<table border=\"1\" class=\"dataframe\">\n  <thead>\n    <tr style=\"text-align: right;\">\n      <th></th>\n      <th>scientific_name</th>\n      <th>park_name</th>\n      <th>observations</th>\n    </tr>\n  </thead>\n  <tbody>\n    <tr>\n      <th>0</th>\n      <td>Vicia benghalensis</td>\n      <td>Great Smoky Mountains National Park</td>\n      <td>68</td>\n    </tr>\n    <tr>\n      <th>1</th>\n      <td>Neovison vison</td>\n      <td>Great Smoky Mountains National Park</td>\n      <td>77</td>\n    </tr>\n    <tr>\n      <th>2</th>\n      <td>Prunus subcordata</td>\n      <td>Yosemite National Park</td>\n      <td>138</td>\n    </tr>\n    <tr>\n      <th>3</th>\n      <td>Abutilon theophrasti</td>\n      <td>Bryce National Park</td>\n      <td>84</td>\n    </tr>\n    <tr>\n      <th>4</th>\n      <td>Githopsis specularioides</td>\n      <td>Great Smoky Mountains National Park</td>\n      <td>85</td>\n    </tr>\n  </tbody>\n</table>\n</div>"
     },
     "execution_count": 11,
     "metadata": {},
     "output_type": "execute_result"
    }
   ],
   "source": [
    "observations = pd.read_csv('observations.csv', encoding='utf-8',low_memory=False)\n",
    "observations.head()"
   ],
   "metadata": {
    "collapsed": false,
    "pycharm": {
     "name": "#%%\n"
    }
   }
  },
  {
   "cell_type": "markdown",
   "source": [
    "The columns of observations dataframe are:\n",
    "- scientific_name - The scientific name of each species\n",
    "- park_name - The name of the national park\n",
    "- observations - The number of observations in the past 7 days"
   ],
   "metadata": {
    "collapsed": false,
    "pycharm": {
     "name": "#%% md\n"
    }
   }
  },
  {
   "cell_type": "code",
   "execution_count": 12,
   "outputs": [
    {
     "data": {
      "text/plain": "(23296, 3)"
     },
     "execution_count": 12,
     "metadata": {},
     "output_type": "execute_result"
    }
   ],
   "source": [
    "observations.shape"
   ],
   "metadata": {
    "collapsed": false,
    "pycharm": {
     "name": "#%%\n"
    }
   }
  },
  {
   "cell_type": "code",
   "execution_count": 13,
   "outputs": [
    {
     "name": "stdout",
     "output_type": "stream",
     "text": [
      "<class 'pandas.core.frame.DataFrame'>\n",
      "RangeIndex: 23296 entries, 0 to 23295\n",
      "Data columns (total 3 columns):\n",
      " #   Column           Non-Null Count  Dtype \n",
      "---  ------           --------------  ----- \n",
      " 0   scientific_name  23296 non-null  object\n",
      " 1   park_name        23296 non-null  object\n",
      " 2   observations     23296 non-null  int64 \n",
      "dtypes: int64(1), object(2)\n",
      "memory usage: 546.1+ KB\n"
     ]
    }
   ],
   "source": [
    "observations.info()"
   ],
   "metadata": {
    "collapsed": false,
    "pycharm": {
     "name": "#%%\n"
    }
   }
  },
  {
   "cell_type": "markdown",
   "source": [
    "There seems to have no missing data in observations."
   ],
   "metadata": {
    "collapsed": false,
    "pycharm": {
     "name": "#%% md\n"
    }
   }
  },
  {
   "cell_type": "code",
   "execution_count": 14,
   "outputs": [
    {
     "data": {
      "text/plain": "(23281, 3)"
     },
     "execution_count": 14,
     "metadata": {},
     "output_type": "execute_result"
    }
   ],
   "source": [
    "observations.drop_duplicates(inplace=True)\n",
    "observations.shape #there is are some duplicate rows"
   ],
   "metadata": {
    "collapsed": false,
    "pycharm": {
     "name": "#%%\n"
    }
   }
  },
  {
   "cell_type": "code",
   "execution_count": 15,
   "outputs": [
    {
     "name": "stdout",
     "output_type": "stream",
     "text": [
      "<class 'pandas.core.frame.DataFrame'>\n",
      "Int64Index: 23281 entries, 0 to 23295\n",
      "Data columns (total 3 columns):\n",
      " #   Column           Non-Null Count  Dtype \n",
      "---  ------           --------------  ----- \n",
      " 0   scientific_name  23281 non-null  object\n",
      " 1   park_name        23281 non-null  object\n",
      " 2   observations     23281 non-null  int64 \n",
      "dtypes: int64(1), object(2)\n",
      "memory usage: 727.5+ KB\n"
     ]
    }
   ],
   "source": [
    "observations.info()"
   ],
   "metadata": {
    "collapsed": false,
    "pycharm": {
     "name": "#%%\n"
    }
   }
  },
  {
   "cell_type": "markdown",
   "source": [
    "We can see that both dataframes have a similar column named scientific_name. However, species has 5824 rows while onservations has 23281 rows"
   ],
   "metadata": {
    "collapsed": false,
    "pycharm": {
     "name": "#%% md\n"
    }
   }
  },
  {
   "cell_type": "markdown",
   "source": [
    "### Exploratory Data Analysis"
   ],
   "metadata": {
    "collapsed": false,
    "pycharm": {
     "name": "#%% md\n"
    }
   }
  },
  {
   "cell_type": "markdown",
   "source": [
    "#### species df"
   ],
   "metadata": {
    "collapsed": false,
    "pycharm": {
     "name": "#%% md\n"
    }
   }
  },
  {
   "cell_type": "code",
   "execution_count": 18,
   "outputs": [
    {
     "name": "stdout",
     "output_type": "stream",
     "text": [
      "umber of species 5541\n"
     ]
    }
   ],
   "source": [
    "#number of unique species\n",
    "print(\"Number of species {}\".format(species.scientific_name.nunique()))"
   ],
   "metadata": {
    "collapsed": false,
    "pycharm": {
     "name": "#%%\n"
    }
   }
  },
  {
   "cell_type": "code",
   "execution_count": 19,
   "outputs": [
    {
     "name": "stdout",
     "output_type": "stream",
     "text": [
      "Number of categories 7\n"
     ]
    }
   ],
   "source": [
    "print(\"Number of categories {}\".format(species.category.nunique())) #the number is not too large"
   ],
   "metadata": {
    "collapsed": false,
    "pycharm": {
     "name": "#%%\n"
    }
   }
  },
  {
   "cell_type": "code",
   "execution_count": 24,
   "outputs": [
    {
     "name": "stdout",
     "output_type": "stream",
     "text": [
      "Number of each category category\n",
      "Amphibian              80\n",
      "Bird                  521\n",
      "Fish                  127\n",
      "Mammal                214\n",
      "Nonvascular Plant     333\n",
      "Reptile                79\n",
      "Vascular Plant       4470\n",
      "dtype: int64\n"
     ]
    }
   ],
   "source": [
    "print(\"Number of each category {}\".format(species.groupby(\"category\").size()))"
   ],
   "metadata": {
    "collapsed": false,
    "pycharm": {
     "name": "#%%\n"
    }
   }
  },
  {
   "cell_type": "code",
   "execution_count": 39,
   "outputs": [
    {
     "name": "stderr",
     "output_type": "stream",
     "text": [
      "D:\\anaconda\\anaconda_2021.11-Install\\lib\\site-packages\\seaborn\\_decorators.py:36: FutureWarning: Pass the following variable as a keyword arg: x. From version 0.12, the only valid positional argument will be `data`, and passing other arguments without an explicit keyword will result in an error or misinterpretation.\n",
      "  warnings.warn(\n"
     ]
    },
    {
     "data": {
      "text/plain": "<Figure size 432x288 with 1 Axes>",
      "image/png": "[encoded data removed]"
     },
     "metadata": {
      "needs_background": "light"
     },
     "output_type": "display_data"
    }
   ],
   "source": [
    "ax = sns.countplot(species[\"category\"])\n",
    "ax.set_xticklabels(species[\"category\"].unique(),rotation=30, fontsize=10)\n",
    "plt.show()\n",
    "#we can see that the plant categorys has the most observations"
   ],
   "metadata": {
    "collapsed": false,
    "pycharm": {
     "name": "#%%\n"
    }
   }
  },
  {
   "cell_type": "code",
   "execution_count": 40,
   "outputs": [
    {
     "name": "stdout",
     "output_type": "stream",
     "text": [
      "Num of conservation statuses:4\n",
      "Unique conservation statuses:[nan 'Species of Concern' 'Endangered' 'Threatened' 'In Recovery']\n"
     ]
    }
   ],
   "source": [
    "print(\"Num of conservation statuses:{}\".format(species.conservation_status.nunique()))\n",
    "print(\"Unique conservation statuses:{}\".format(species.conservation_status.unique()))"
   ],
   "metadata": {
    "collapsed": false,
    "pycharm": {
     "name": "#%%\n"
    }
   }
  },
  {
   "cell_type": "code",
   "execution_count": 41,
   "outputs": [
    {
     "name": "stdout",
     "output_type": "stream",
     "text": [
      "conservation_status\n",
      "Endangered              16\n",
      "In Recovery              4\n",
      "Species of Concern     161\n",
      "Threatened              10\n",
      "NaN                   5633\n",
      "dtype: int64\n"
     ]
    }
   ],
   "source": [
    "print(species.groupby(by=\"conservation_status\", dropna=False).size())"
   ],
   "metadata": {
    "collapsed": false,
    "pycharm": {
     "name": "#%%\n"
    }
   }
  },
  {
   "cell_type": "markdown",
   "source": [
    "After see the unique values of conservation_status, I think NaN value indicates a safe conservation status for species. So the dataset is pretty clean and I can fill NaN value by `No Intervention` status"
   ],
   "metadata": {
    "collapsed": false,
    "pycharm": {
     "name": "#%% md\n"
    }
   }
  },
  {
   "cell_type": "code",
   "execution_count": 52,
   "outputs": [
    {
     "data": {
      "text/plain": "conservation_status\nEndangered              16\nIn Recovery              4\nNo Intervention       5633\nSpecies of Concern     161\nThreatened              10\ndtype: int64"
     },
     "execution_count": 52,
     "metadata": {},
     "output_type": "execute_result"
    }
   ],
   "source": [
    "species.fillna('No Intervention', inplace=True)\n",
    "species.groupby(\"conservation_status\").size()"
   ],
   "metadata": {
    "collapsed": false,
    "pycharm": {
     "name": "#%%\n"
    }
   }
  },
  {
   "cell_type": "markdown",
   "source": [
    "#### observation df"
   ],
   "metadata": {
    "collapsed": false,
    "pycharm": {
     "name": "#%% md\n"
    }
   }
  },
  {
   "cell_type": "code",
   "execution_count": 45,
   "outputs": [
    {
     "name": "stdout",
     "output_type": "stream",
     "text": [
      "Number of species in observations 5541\n"
     ]
    }
   ],
   "source": [
    "print(\"Number of species in observations {}\".format(observations.scientific_name.nunique()))\n",
    "# we have the same number of unique species in observations"
   ],
   "metadata": {
    "collapsed": false,
    "pycharm": {
     "name": "#%%\n"
    }
   }
  },
  {
   "cell_type": "code",
   "execution_count": 46,
   "outputs": [
    {
     "name": "stdout",
     "output_type": "stream",
     "text": [
      "Number of parks 4\n",
      "Number of each park park_name\n",
      "Bryce National Park                    5823\n",
      "Great Smoky Mountains National Park    5818\n",
      "Yellowstone National Park              5819\n",
      "Yosemite National Park                 5821\n",
      "dtype: int64\n"
     ]
    }
   ],
   "source": [
    "print(\"Number of parks {}\".format(observations[\"park_name\"].nunique())) #the number is not too large\n",
    "print(\"Number of each park {}\".format(observations.groupby(\"park_name\").size()))"
   ],
   "metadata": {
    "collapsed": false,
    "pycharm": {
     "name": "#%%\n"
    }
   }
  },
  {
   "cell_type": "code",
   "execution_count": 50,
   "outputs": [
    {
     "name": "stderr",
     "output_type": "stream",
     "text": [
      "D:\\anaconda\\anaconda_2021.11-Install\\lib\\site-packages\\seaborn\\_decorators.py:36: FutureWarning: Pass the following variable as a keyword arg: x. From version 0.12, the only valid positional argument will be `data`, and passing other arguments without an explicit keyword will result in an error or misinterpretation.\n",
      "  warnings.warn(\n"
     ]
    },
    {
     "data": {
      "text/plain": "<Figure size 432x288 with 1 Axes>",
      "image/png": "[encoded data removed]"
     },
     "metadata": {
      "needs_background": "light"
     },
     "output_type": "display_data"
    }
   ],
   "source": [
    "plt.clf()\n",
    "ax = sns.countplot(observations[\"park_name\"])\n",
    "ax.set_xticklabels(observations[\"park_name\"].unique(),rotation=90, fontsize=10)\n",
    "plt.show()\n",
    "#we can see that all park has the similar number of observations"
   ],
   "metadata": {
    "collapsed": false,
    "pycharm": {
     "name": "#%%\n"
    }
   }
  },
  {
   "cell_type": "markdown",
   "source": [
    "### Main Analysis"
   ],
   "metadata": {
    "collapsed": false,
    "pycharm": {
     "name": "#%% md\n"
    }
   }
  },
  {
   "cell_type": "markdown",
   "source": [
    "#### What is the distribution of conservation_status for animals?"
   ],
   "metadata": {
    "collapsed": false,
    "pycharm": {
     "name": "#%% md\n"
    }
   }
  },
  {
   "cell_type": "markdown",
   "source": [
    "I will exclude the No Intervention because it is the major of the conservation status"
   ],
   "metadata": {
    "collapsed": false,
    "pycharm": {
     "name": "#%% md\n"
    }
   }
  },
  {
   "cell_type": "code",
   "execution_count": 70,
   "outputs": [
    {
     "name": "stdout",
     "output_type": "stream",
     "text": [
      "category             Amphibian  Bird  Fish  Mammal  Nonvascular Plant  \\\n",
      "conservation_status                                                     \n",
      "Endangered                   1     4     3       7                  0   \n",
      "In Recovery                  0     3     0       1                  0   \n",
      "Species of Concern           4    72     4      28                  5   \n",
      "Threatened                   2     0     4       2                  0   \n",
      "\n",
      "category             Reptile  Vascular Plant  \n",
      "conservation_status                           \n",
      "Endangered                 0               1  \n",
      "In Recovery                0               0  \n",
      "Species of Concern         5              43  \n",
      "Threatened                 0               2  \n"
     ]
    }
   ],
   "source": [
    "conser_species= species[species.conservation_status != \"No Intervention\"]\n",
    "status_category_feq = pd.crosstab(conser_species.conservation_status, conser_species.category)\n",
    "print(status_category_feq)"
   ],
   "metadata": {
    "collapsed": false,
    "pycharm": {
     "name": "#%%\n"
    }
   }
  },
  {
   "cell_type": "code",
   "execution_count": 125,
   "outputs": [
    {
     "data": {
      "text/plain": "<Figure size 432x288 with 0 Axes>"
     },
     "metadata": {},
     "output_type": "display_data"
    },
    {
     "data": {
      "text/plain": "<Figure size 1152x576 with 7 Axes>",
      "image/png": "[encoded data removed]"
     },
     "metadata": {},
     "output_type": "display_data"
    }
   ],
   "source": [
    "plt.clf()\n",
    "\n",
    "fig, axs= plt.subplots(2,4)\n",
    "fig.set_size_inches(16,8)\n",
    "axs= axs.flatten()\n",
    "for i in range(conser_species.category.nunique()):\n",
    "    axs[i].pie(status_category_feq[status_category_feq.columns[i]], autopct='%1.0f%%', pctdistance=1.15)\n",
    "    axs[i].set_title(status_category_feq.columns[i])\n",
    "axs[-1].remove()\n",
    "fig.legend(status_category_feq.index, loc=4, fontsize='large',title=\"Conservation Status\")\n",
    "plt.show()"
   ],
   "metadata": {
    "collapsed": false,
    "pycharm": {
     "name": "#%%\n"
    }
   }
  },
  {
   "cell_type": "markdown",
   "source": [
    "We can see that Species of concern is the most popular conservation status (exclude No Intervention) in most category."
   ],
   "metadata": {
    "collapsed": false,
    "pycharm": {
     "name": "#%% md\n"
    }
   }
  },
  {
   "cell_type": "markdown",
   "source": [
    "#### Are certain types of species more likely to be endangered?"
   ],
   "metadata": {
    "collapsed": false,
    "pycharm": {
     "name": "#%% md\n"
    }
   }
  },
  {
   "cell_type": "markdown",
   "source": [
    "This question can be determined by calculate the percentage of danger status in each species.\n",
    "\n",
    "Because the animal which is endangered is also protected. Therefore, I created new variable for this type of animal"
   ],
   "metadata": {
    "collapsed": false,
    "pycharm": {
     "name": "#%% md\n"
    }
   }
  },
  {
   "cell_type": "code",
   "execution_count": 126,
   "outputs": [],
   "source": [
    "species['is_protected'] = species.conservation_status != 'No Intervention'"
   ],
   "metadata": {
    "collapsed": false,
    "pycharm": {
     "name": "#%%\n"
    }
   }
  },
  {
   "cell_type": "code",
   "execution_count": 130,
   "outputs": [
    {
     "data": {
      "text/plain": "is_protected       False  True\ncategory                      \nAmphibian             73     7\nBird                 442    79\nFish                 116    11\nMammal               176    38\nNonvascular Plant    328     5\nReptile               74     5\nVascular Plant      4424    46",
      "text/html": "<div>\n<style scoped>\n    .dataframe tbody tr th:only-of-type {\n        vertical-align: middle;\n    }\n\n    .dataframe tbody tr th {\n        vertical-align: top;\n    }\n\n    .dataframe thead th {\n        text-align: right;\n    }\n</style>\n<table border=\"1\" class=\"dataframe\">\n  <thead>\n    <tr style=\"text-align: right;\">\n      <th>is_protected</th>\n      <th>False</th>\n      <th>True</th>\n    </tr>\n    <tr>\n      <th>category</th>\n      <th></th>\n      <th></th>\n    </tr>\n  </thead>\n  <tbody>\n    <tr>\n      <th>Amphibian</th>\n      <td>73</td>\n      <td>7</td>\n    </tr>\n    <tr>\n      <th>Bird</th>\n      <td>442</td>\n      <td>79</td>\n    </tr>\n    <tr>\n      <th>Fish</th>\n      <td>116</td>\n      <td>11</td>\n    </tr>\n    <tr>\n      <th>Mammal</th>\n      <td>176</td>\n      <td>38</td>\n    </tr>\n    <tr>\n      <th>Nonvascular Plant</th>\n      <td>328</td>\n      <td>5</td>\n    </tr>\n    <tr>\n      <th>Reptile</th>\n      <td>74</td>\n      <td>5</td>\n    </tr>\n    <tr>\n      <th>Vascular Plant</th>\n      <td>4424</td>\n      <td>46</td>\n    </tr>\n  </tbody>\n</table>\n</div>"
     },
     "execution_count": 130,
     "metadata": {},
     "output_type": "execute_result"
    }
   ],
   "source": [
    "category_protected_feq = pd.crosstab(species.category, species.is_protected)\n",
    "category_protected_feq"
   ],
   "metadata": {
    "collapsed": false,
    "pycharm": {
     "name": "#%%\n"
    }
   }
  },
  {
   "cell_type": "code",
   "execution_count": 141,
   "outputs": [
    {
     "data": {
      "text/plain": "category\nAmphibian             8.750000\nBird                 15.163148\nFish                  8.661417\nMammal               17.757009\nNonvascular Plant     1.501502\nReptile               6.329114\nVascular Plant        1.029083\ndtype: float64"
     },
     "execution_count": 141,
     "metadata": {},
     "output_type": "execute_result"
    }
   ],
   "source": [
    "category_protected_prop =category_protected_feq[True]/category_protected_feq.sum(axis=1)*100\n",
    "category_protected_prop"
   ],
   "metadata": {
    "collapsed": false,
    "pycharm": {
     "name": "#%%\n"
    }
   }
  },
  {
   "cell_type": "markdown",
   "source": [
    "From this analysis, one can see that mammals and birds are more likely to be endangered"
   ],
   "metadata": {
    "collapsed": false,
    "pycharm": {
     "name": "#%% md\n"
    }
   }
  },
  {
   "cell_type": "markdown",
   "source": [
    "#### Are the differences between species and their conservation status significant?"
   ],
   "metadata": {
    "collapsed": false,
    "pycharm": {
     "name": "#%% md\n"
    }
   }
  },
  {
   "cell_type": "markdown",
   "source": [
    "I will conduct the Chi-Square test in this case. However, the test is more effective and useful if we use a binary variable. This section will run some chi-squared tests to see if different species have statistically significant differences in conservation status rates. I choose 0.05 as significant threshold"
   ],
   "metadata": {
    "collapsed": false,
    "pycharm": {
     "name": "#%% md\n"
    }
   }
  },
  {
   "cell_type": "code",
   "execution_count": 144,
   "outputs": [
    {
     "name": "stdout",
     "output_type": "stream",
     "text": [
      "3.095911909904608e-98\n"
     ]
    }
   ],
   "source": [
    "from scipy.stats import chi2_contingency\n",
    "protected_category_feq = pd.crosstab(species.is_protected,species.category)\n",
    "chi2, pval, dof, expected = chi2_contingency(protected_category_feq)\n",
    "print(pval)"
   ],
   "metadata": {
    "collapsed": false,
    "pycharm": {
     "name": "#%%\n"
    }
   }
  },
  {
   "cell_type": "markdown",
   "source": [
    "Therefore,it is likely that category and is_protected association is significant.\n",
    "\n",
    "I will conduct the Chi-Squared Test for each pair of value, however, the threshold should be lowered down to 0.05/21=0.00238095238  (there is 21 pairs of value in this case)"
   ],
   "metadata": {
    "collapsed": false,
    "pycharm": {
     "name": "#%% md\n"
    }
   }
  },
  {
   "cell_type": "code",
   "execution_count": 151,
   "outputs": [
    {
     "name": "stdout",
     "output_type": "stream",
     "text": [
      "\n",
      " Mammal  versus  Bird Chi value:  0.5810483277947567 \t\tp value:  0.445901703047197\n",
      "\n",
      " Mammal  versus  Reptile Chi value:  5.139702724228909 \t\tp value:  0.02338465214871547\n",
      "\n",
      " Mammal  versus  Amphibian Chi value:  2.9824977480013515 \t\tp value:  0.08416928847464508\n",
      "\n",
      " Mammal  versus  Fish Chi value:  4.644937895246063 \t\tp value:  0.031145264082780604\n",
      "\n",
      " Mammal  versus  Vascular Plant Chi value:  315.0493897752202 \t\tp value:  1.73491124376035e-70\n",
      "\n",
      " Mammal  versus  Nonvascular Plant Chi value:  45.309986795376076 \t\tp value:  1.6818930744695664e-11\n",
      "\n",
      " Bird  versus  Reptile Chi value:  3.742911272135716 \t\tp value:  0.053031969869125097\n",
      "\n",
      " Bird  versus  Amphibian Chi value:  1.8325402556663934 \t\tp value:  0.17582779760374145\n",
      "\n",
      " Bird  versus  Fish Chi value:  3.085932418313973 \t\tp value:  0.07897198996788664\n",
      "\n",
      " Bird  versus  Vascular Plant Chi value:  375.988639139334 \t\tp value:  9.296288431402029e-84\n",
      "\n",
      " Bird  versus  Nonvascular Plant Chi value:  41.22733687273035 \t\tp value:  1.355139751924416e-10\n",
      "\n",
      " Reptile  versus  Amphibian Chi value:  0.07704707278481002 \t\tp value:  0.7813397425469251\n",
      "\n",
      " Reptile  versus  Fish Chi value:  0.1159058659056693 \t\tp value:  0.7335180426330998\n",
      "\n",
      " Reptile  versus  Vascular Plant Chi value:  15.180097773663743 \t\tp value:  9.772802684315545e-05\n",
      "\n",
      " Reptile  versus  Nonvascular Plant Chi value:  4.410451940699437 \t\tp value:  0.03571937673410538\n",
      "\n",
      " Amphibian  versus  Fish Chi value:  0.0 \t\tp value:  1.0\n",
      "\n",
      " Amphibian  versus  Vascular Plant Chi value:  34.2654899972148 \t\tp value:  4.808329919269614e-09\n",
      "\n",
      " Amphibian  versus  Nonvascular Plant Chi value:  9.58112728727793 \t\tp value:  0.001965876648469202\n",
      "\n",
      " Fish  versus  Vascular Plant Chi value:  52.677481129594355 \t\tp value:  3.9307221656919953e-13\n",
      "\n",
      " Fish  versus  Nonvascular Plant Chi value:  11.98677476156727 \t\tp value:  0.0005357944004524846\n",
      "\n",
      " Vascular Plant  versus  Nonvascular Plant Chi value:  0.2854762603535055 \t\tp value:  0.5931341408785127\n"
     ]
    }
   ],
   "source": [
    "cat = list(species.category.unique())\n",
    "sub1= species.copy()\n",
    "for x in range(0,len(cat)-1):\n",
    "    for y in range(x+1,len(cat)):\n",
    "        recode = { cat[x]:cat[x], cat[y]:cat[y]}\n",
    "        sub1['temp'] = sub1['category'].map(recode)\n",
    "        cont=pd.crosstab(sub1['is_protected'], sub1['temp'])\n",
    "        cs= chi2_contingency(cont)\n",
    "        print(\"\\n\", cat[x], \" versus \", cat[y],\n",
    "              \"Chi value: \", cs[0], \"\\t\\tp value: \", cs[1])"
   ],
   "metadata": {
    "collapsed": false,
    "pycharm": {
     "name": "#%%\n"
    }
   }
  },
  {
   "cell_type": "markdown",
   "source": [
    "Mammal  versus  Vascular Plant\n",
    " Mammal  versus  Nonvascular Plant\n",
    "Bird  versus  Vascular Plant\n",
    "Bird  versus  Nonvascular Plant\n",
    "Reptile  versus  Vascular Plant\n",
    "Amphibian  versus  Vascular Plant\n",
    "Fish  versus  Vascular Plant\n",
    "\n",
    "The above is the category pair which show the significant difference between species and conservation status"
   ],
   "metadata": {
    "collapsed": false,
    "pycharm": {
     "name": "#%% md\n"
    }
   }
  },
  {
   "cell_type": "markdown",
   "source": [
    "#### Which species were spotted the most at each park?"
   ],
   "metadata": {
    "collapsed": false,
    "pycharm": {
     "name": "#%% md\n"
    }
   }
  },
  {
   "cell_type": "code",
   "execution_count": 180,
   "outputs": [
    {
     "data": {
      "text/plain": "      scientific_name                            park_name  observations  \\\n0  Vicia benghalensis  Great Smoky Mountains National Park            68   \n1  Vicia benghalensis               Yosemite National Park           148   \n2  Vicia benghalensis            Yellowstone National Park           247   \n3  Vicia benghalensis                  Bryce National Park           104   \n4      Neovison vison  Great Smoky Mountains National Park            77   \n\n         category                        common_names conservation_status  \\\n0  Vascular Plant  Purple Vetch, Reddish Tufted Vetch     No Intervention   \n1  Vascular Plant  Purple Vetch, Reddish Tufted Vetch     No Intervention   \n2  Vascular Plant  Purple Vetch, Reddish Tufted Vetch     No Intervention   \n3  Vascular Plant  Purple Vetch, Reddish Tufted Vetch     No Intervention   \n4          Mammal                       American Mink     No Intervention   \n\n   is_protected  \n0         False  \n1         False  \n2         False  \n3         False  \n4         False  ",
      "text/html": "<div>\n<style scoped>\n    .dataframe tbody tr th:only-of-type {\n        vertical-align: middle;\n    }\n\n    .dataframe tbody tr th {\n        vertical-align: top;\n    }\n\n    .dataframe thead th {\n        text-align: right;\n    }\n</style>\n<table border=\"1\" class=\"dataframe\">\n  <thead>\n    <tr style=\"text-align: right;\">\n      <th></th>\n      <th>scientific_name</th>\n      <th>park_name</th>\n      <th>observations</th>\n      <th>category</th>\n      <th>common_names</th>\n      <th>conservation_status</th>\n      <th>is_protected</th>\n    </tr>\n  </thead>\n  <tbody>\n    <tr>\n      <th>0</th>\n      <td>Vicia benghalensis</td>\n      <td>Great Smoky Mountains National Park</td>\n      <td>68</td>\n      <td>Vascular Plant</td>\n      <td>Purple Vetch, Reddish Tufted Vetch</td>\n      <td>No Intervention</td>\n      <td>False</td>\n    </tr>\n    <tr>\n      <th>1</th>\n      <td>Vicia benghalensis</td>\n      <td>Yosemite National Park</td>\n      <td>148</td>\n      <td>Vascular Plant</td>\n      <td>Purple Vetch, Reddish Tufted Vetch</td>\n      <td>No Intervention</td>\n      <td>False</td>\n    </tr>\n    <tr>\n      <th>2</th>\n      <td>Vicia benghalensis</td>\n      <td>Yellowstone National Park</td>\n      <td>247</td>\n      <td>Vascular Plant</td>\n      <td>Purple Vetch, Reddish Tufted Vetch</td>\n      <td>No Intervention</td>\n      <td>False</td>\n    </tr>\n    <tr>\n      <th>3</th>\n      <td>Vicia benghalensis</td>\n      <td>Bryce National Park</td>\n      <td>104</td>\n      <td>Vascular Plant</td>\n      <td>Purple Vetch, Reddish Tufted Vetch</td>\n      <td>No Intervention</td>\n      <td>False</td>\n    </tr>\n    <tr>\n      <th>4</th>\n      <td>Neovison vison</td>\n      <td>Great Smoky Mountains National Park</td>\n      <td>77</td>\n      <td>Mammal</td>\n      <td>American Mink</td>\n      <td>No Intervention</td>\n      <td>False</td>\n    </tr>\n  </tbody>\n</table>\n</div>"
     },
     "execution_count": 180,
     "metadata": {},
     "output_type": "execute_result"
    }
   ],
   "source": [
    "df1 =pd.merge(observations, species)\n",
    "df1.head()"
   ],
   "metadata": {
    "collapsed": false,
    "pycharm": {
     "name": "#%%\n"
    }
   }
  },
  {
   "cell_type": "code",
   "execution_count": 187,
   "outputs": [
    {
     "data": {
      "text/plain": "<Figure size 432x288 with 1 Axes>",
      "image/png": "[encoded data removed]"
     },
     "metadata": {
      "needs_background": "light"
     },
     "output_type": "display_data"
    }
   ],
   "source": [
    "plt.clf()\n",
    "ax = sns.countplot(data =df1, x=\"park_name\", hue=\"category\")\n",
    "ax.set_xticklabels(observations[\"park_name\"].unique(),rotation=90, fontsize=10)\n",
    "plt.show()\n",
    "#we can see that all park has the similar number of observations"
   ],
   "metadata": {
    "collapsed": false,
    "pycharm": {
     "name": "#%%\n"
    }
   }
  },
  {
   "cell_type": "markdown",
   "source": [
    "we can see Vascular Plant appear the most and it can be found easily in every park in the dataset"
   ],
   "metadata": {
    "collapsed": false,
    "pycharm": {
     "name": "#%% md\n"
    }
   }
  },
  {
   "cell_type": "code",
   "execution_count": 188,
   "outputs": [
    {
     "data": {
      "text/plain": "Castor canadensis                       12\nCanis lupus                             12\nHypochaeris radicata                    12\nProcyon lotor                           12\nHolcus lanatus                          12\n                                        ..\nPackera dimorphophylla var. paysonii     4\nSmilax bona-nox                          4\nChondestes grammacus                     4\nLeymus triticoides                       4\nDichanthelium depauperatum               4\nName: scientific_name, Length: 5541, dtype: int64"
     },
     "execution_count": 188,
     "metadata": {},
     "output_type": "execute_result"
    }
   ],
   "source": [
    "observations['scientific_name'].value_counts(sort=True)"
   ],
   "metadata": {
    "collapsed": false,
    "pycharm": {
     "name": "#%%\n"
    }
   }
  },
  {
   "cell_type": "markdown",
   "source": [
    "## Conclusions\n",
    "\n",
    "The project was able to make several data visualizations and inferences about the various species in four of the National Parks that comprised this data set.\n",
    "\n",
    "This project was also able to answer some of the questions first posed in the beginning:\n",
    "- What is the distribution of conservation_status for animals?\n",
    "    - most is not part of conservation\n",
    "- Are certain types of species more likely to be endangered?\n",
    "    - Mammals and Birds\n",
    "- Are the differences between species and their conservation status significant?\n",
    "    - yes. However, not every pair of categories has a significant difference\n",
    "- Which species were spotted the most at each park?\n",
    "    - Vascular Plant\n",
    "    -\n",
    "\n"
   ],
   "metadata": {
    "collapsed": false,
    "pycharm": {
     "name": "#%% md\n"
    }
   }
  }
 ],
 "metadata": {
  "kernelspec": {
   "display_name": "Python 3",
   "language": "python",
   "name": "python3"
  },
  "language_info": {
   "codemirror_mode": {
    "name": "ipython",
    "version": 3
   },
   "file_extension": ".py",
   "mimetype": "text/x-python",
   "name": "python",
   "nbconvert_exporter": "python",
   "pygments_lexer": "ipython3",
   "version": "3.7.6"
  }
 },
 "nbformat": 4,
 "nbformat_minor": 4
}